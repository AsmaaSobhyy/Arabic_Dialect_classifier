{
 "cells": [
  {
   "cell_type": "code",
   "execution_count": 106,
   "metadata": {
    "id": "meagLModB8bM"
   },
   "outputs": [],
   "source": [
    "import pandas as pd\n",
    "import numpy as np\n",
    "import matplotlib.pyplot as plt\n",
    "\n",
    "from nltk.tokenize import RegexpTokenizer\n",
    "# from imblearn.over_sampling import RandomOverSampler\n",
    "from imblearn.under_sampling import RandomUnderSampler\n",
    "\n",
    "import pickle"
   ]
  },
  {
   "cell_type": "code",
   "execution_count": 107,
   "metadata": {
    "id": "JdJ9ujxHCOo5"
   },
   "outputs": [],
   "source": [
    "data_path =\"/content/drive/MyDrive/Aimtech/\"\n",
    "# data_path =\"./\""
   ]
  },
  {
   "cell_type": "code",
   "execution_count": 5,
   "metadata": {
    "id": "jA6nuNp5CoL0"
   },
   "outputs": [],
   "source": [
    "with open(data_path+\"dialect_text.pickle\", \"rb\") as f:\n",
    "    (df) = pickle.load(f)"
   ]
  },
  {
   "cell_type": "code",
   "execution_count": 68,
   "metadata": {
    "colab": {
     "base_uri": "https://localhost:8080/",
     "height": 614
    },
    "id": "RUHxwTpbC0Gl",
    "outputId": "3e5007ec-f1af-421f-ea63-929afd1cfbcd"
   },
   "outputs": [
    {
     "name": "stdout",
     "output_type": "stream",
     "text": [
      "EG    57636\n",
      "PL    43742\n",
      "KW    42109\n",
      "LY    36499\n",
      "QA    31069\n",
      "JO    27921\n",
      "LB    27617\n",
      "SA    26832\n",
      "AE    26296\n",
      "BH    26292\n",
      "OM    19116\n",
      "SY    16242\n",
      "DZ    16183\n",
      "IQ    15497\n",
      "SD    14434\n",
      "MA    11539\n",
      "YE     9927\n",
      "TN     9246\n",
      "Name: dialect, dtype: int64\n"
     ]
    },
    {
     "data": {
      "text/plain": [
       "<BarContainer object of 18 artists>"
      ]
     },
     "execution_count": 68,
     "metadata": {},
     "output_type": "execute_result"
    },
    {
     "data": {
      "image/png": "[encoded data removed]",
      "text/plain": [
       "<Figure size 432x288 with 1 Axes>"
      ]
     },
     "metadata": {
      "needs_background": "light"
     },
     "output_type": "display_data"
    }
   ],
   "source": [
    "print(df.dialect.value_counts())\n",
    "plt.bar(df.dialect.value_counts().index,df.dialect.value_counts().values)"
   ]
  },
  {
   "cell_type": "code",
   "execution_count": 108,
   "metadata": {
    "colab": {
     "base_uri": "https://localhost:8080/"
    },
    "id": "4UuIxenmJMhW",
    "outputId": "6937440a-133a-4971-83d9-4962a52b493a"
   },
   "outputs": [
    {
     "data": {
      "text/plain": [
       "0     @Nw8ieJUwaCAAreT لكن بالنهاية .. ينتفض .. يغير .\n",
       "1    @7zNqXP0yrODdRjK يعني هذا محسوب على البشر .. ح...\n",
       "2                      @KanaanRema مبين من كلامه خليجي\n",
       "3           @HAIDER76128900 يسلملي مرورك وروحك الحلوه💐\n",
       "4                   @hmo2406 وين هل الغيبه  اخ محمد 🌸🌺\n",
       "Name: text, dtype: object"
      ]
     },
     "execution_count": 108,
     "metadata": {},
     "output_type": "execute_result"
    }
   ],
   "source": [
    "df.text[:5]"
   ]
  },
  {
   "cell_type": "code",
   "execution_count": 80,
   "metadata": {
    "id": "8cQBExSYC5Pl"
   },
   "outputs": [],
   "source": [
    "def clean_data(text):\n",
    "  #Removing user name\n",
    "  new_text = df.text.str.replace(r\"\\@\\w+\",\"\")\n",
    "\n",
    "  #Removing links\n",
    "  new_text = new_text.str.replace(r\"(https?:\\/\\/)?([\\da-z\\.-]+)\\.([a-z\\.]{2,6})([\\/\\w \\.-]*)\",\"\")\n",
    "\n",
    "  #Removing Punctuation\n",
    "  tokenizer = RegexpTokenizer(r'\\w+')\n",
    "  clean_text = new_text.apply(lambda row: \" \".join(tokenizer.tokenize(row)))\n",
    "\n",
    "  return clean_text\n"
   ]
  },
  {
   "cell_type": "code",
   "execution_count": 112,
   "metadata": {
    "colab": {
     "base_uri": "https://localhost:8080/"
    },
    "id": "miRFzl3kIxPV",
    "outputId": "b5eb7199-3e3b-4edd-a19c-c254ed2e0cae"
   },
   "outputs": [
    {
     "name": "stderr",
     "output_type": "stream",
     "text": [
      "/usr/local/lib/python3.7/dist-packages/ipykernel_launcher.py:3: FutureWarning: The default value of regex will change from True to False in a future version.\n",
      "  This is separate from the ipykernel package so we can avoid doing imports until\n",
      "/usr/local/lib/python3.7/dist-packages/ipykernel_launcher.py:6: FutureWarning: The default value of regex will change from True to False in a future version.\n",
      "  \n"
     ]
    }
   ],
   "source": [
    "preprocessed = clean_data(df.text)"
   ]
  },
  {
   "cell_type": "code",
   "execution_count": 113,
   "metadata": {
    "colab": {
     "base_uri": "https://localhost:8080/"
    },
    "id": "u9WJuRE9IxF0",
    "outputId": "b21fcb8a-4024-4d92-a61e-af97df2de773"
   },
   "outputs": [
    {
     "data": {
      "text/plain": [
       "0                              لكن بالنهاية ينتفض يغير\n",
       "1    يعني هذا محسوب على البشر حيونه ووحشيه وتطلبون ...\n",
       "2                                  مبين من كلامه خليجي\n",
       "3                            يسلملي مرورك وروحك الحلوه\n",
       "4                                وين هل الغيبه اخ محمد\n",
       "Name: text, dtype: object"
      ]
     },
     "execution_count": 113,
     "metadata": {},
     "output_type": "execute_result"
    }
   ],
   "source": [
    "preprocessed[:5]"
   ]
  },
  {
   "cell_type": "code",
   "execution_count": 114,
   "metadata": {
    "id": "BbmpCvvhbkA8"
   },
   "outputs": [],
   "source": [
    "# random undersampling\n",
    "# ros = RandomOverSampler(random_state=0)\n",
    "rus = RandomUnderSampler(random_state=42)\n",
    "X=np.asarray(preprocessed).reshape(-1, 1)\n",
    "y=np.asarray(df['dialect'])\n",
    "X_resampled, y_resampled = rus.fit_resample(X, y)"
   ]
  },
  {
   "cell_type": "code",
   "execution_count": 115,
   "metadata": {
    "colab": {
     "base_uri": "https://localhost:8080/"
    },
    "id": "6A8OnCvpIw7g",
    "outputId": "2b8d7029-f0e1-49ff-a3e8-b07378062de1"
   },
   "outputs": [
    {
     "data": {
      "text/plain": [
       "(166428, 1)"
      ]
     },
     "execution_count": 115,
     "metadata": {},
     "output_type": "execute_result"
    }
   ],
   "source": [
    "X_resampled.shape"
   ]
  },
  {
   "cell_type": "markdown",
   "metadata": {
    "id": "_B7VKEm3adow"
   },
   "source": [
    "## Saving the preprocessed data"
   ]
  },
  {
   "cell_type": "code",
   "execution_count": 133,
   "metadata": {
    "id": "7nXX_aK5aT6b"
   },
   "outputs": [],
   "source": [
    "# saving the data as a pickle file to reuse later\n",
    "with open(data_path+\"clean_data.pickle\", \"wb\") as f:\n",
    "    pickle.dump((X_resampled, y_resampled ),f)"
   ]
  },
  {
   "cell_type": "code",
   "execution_count": null,
   "metadata": {
    "id": "nLGsQUaSaqTZ"
   },
   "outputs": [],
   "source": []
  }
 ],
 "metadata": {
  "colab": {
   "name": "preprocessing.ipynb",
   "provenance": []
  },
  "kernelspec": {
   "display_name": "Python 3",
   "language": "python",
   "name": "python3"
  },
  "language_info": {
   "codemirror_mode": {
    "name": "ipython",
    "version": 3
   },
   "file_extension": ".py",
   "mimetype": "text/x-python",
   "name": "python",
   "nbconvert_exporter": "python",
   "pygments_lexer": "ipython3",
   "version": "3.7.6"
  }
 },
 "nbformat": 4,
 "nbformat_minor": 1
}
