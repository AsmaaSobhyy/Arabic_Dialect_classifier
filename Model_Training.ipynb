{
  "nbformat": 4,
  "nbformat_minor": 0,
  "metadata": {
    "colab": {
      "name": "Model_Training_dialect.ipynb",
      "provenance": [],
      "collapsed_sections": []
    },
    "kernelspec": {
      "name": "python3",
      "display_name": "Python 3"
    },
    "language_info": {
      "name": "python"
    },
    "accelerator": "GPU"
  },
  "cells": [
    {
      "cell_type": "code",
      "source": [
        "from sklearn.pipeline import Pipeline\n",
        "from sklearn.feature_extraction.text import TfidfVectorizer\n",
        "from sklearn.model_selection import train_test_split\n",
        "from sklearn import svm\n",
        "from sklearn.metrics import classification_report, accuracy_score\n",
        "\n",
        "from sklearn import preprocessing\n",
        "\n",
        "import tensorflow as tf \n",
        "from keras.preprocessing.text import Tokenizer\n",
        "from keras.preprocessing.sequence import pad_sequences\n",
        "from keras.models import Sequential\n",
        "from keras import layers\n",
        "from tensorflow.keras.optimizers import Adam\n",
        "\n",
        "import pickle\n",
        "import numpy as np\n",
        "import matplotlib.pyplot as plt"
      ],
      "metadata": {
        "id": "LZ-jXVm4pz-v"
      },
      "execution_count": 1,
      "outputs": []
    },
    {
      "cell_type": "markdown",
      "source": [
        "# Preparing the data"
      ],
      "metadata": {
        "id": "dH0tutquqXWw"
      }
    },
    {
      "cell_type": "code",
      "source": [
        "data_path =\"/content/drive/MyDrive/Aimtech/\"\n",
        "# data_path =\"./\""
      ],
      "metadata": {
        "id": "2EtUqds5qW8W"
      },
      "execution_count": 2,
      "outputs": []
    },
    {
      "cell_type": "code",
      "source": [
        "with open(data_path+\"clean_data.pickle\", \"rb\") as f:\n",
        "    (X,y) = pickle.load(f)"
      ],
      "metadata": {
        "id": "a887mr7pqe6B"
      },
      "execution_count": 3,
      "outputs": []
    },
    {
      "cell_type": "code",
      "source": [
        "# Splitting the data into train and validation sets with ratio 80 : 20 \n",
        "X_train, X_test, y_train, y_test = train_test_split(X.flatten(),y, test_size=0.2,stratify=y,random_state=0)\n",
        "print(X_train.shape)\n",
        "print(X_test.shape)"
      ],
      "metadata": {
        "colab": {
          "base_uri": "https://localhost:8080/"
        },
        "id": "p_mXfYESqpOr",
        "outputId": "67bfb2d6-e499-47dd-9003-7a7de41f0fde"
      },
      "execution_count": 4,
      "outputs": [
        {
          "output_type": "stream",
          "name": "stdout",
          "text": [
            "(133142,)\n",
            "(33286,)\n"
          ]
        }
      ]
    },
    {
      "cell_type": "code",
      "source": [
        "# X.flatten()"
      ],
      "metadata": {
        "id": "UCKGrHhpw8WX"
      },
      "execution_count": null,
      "outputs": []
    },
    {
      "cell_type": "code",
      "source": [
        "# vectorizer = TfidfVectorizer(lowercase=False)\n",
        "# X_test = vectorizer.fit_transform(X_train.flatten() )"
      ],
      "metadata": {
        "id": "ZGwaH1uZuobZ"
      },
      "execution_count": null,
      "outputs": []
    },
    {
      "cell_type": "markdown",
      "source": [
        "# SVM model\n",
        "**Training of an SVM classifier with tfidf vectorization.**"
      ],
      "metadata": {
        "id": "NkBqLmjWjFYH"
      }
    },
    {
      "cell_type": "code",
      "source": [
        "# TF-IDF transformation then SVM classifier\n",
        "\n",
        "pipe_SVM= Pipeline([('tfidf', TfidfVectorizer(lowercase=False)),\n",
        "               ('clf',svm.SVC(kernel='linear', C=1)),\n",
        "              ])\n",
        "pipe_SVM.fit(X_train, y_train)\n",
        "y_pred_SVM= pipe_SVM.predict(X_test)\n",
        "\n",
        "#Evaluation\n",
        "print('\\033[1m{:10s}\\033[0m'.format('TF-IDF_SVM_model'))\n",
        "print(\"Report : \\n\",classification_report(y_test, y_pred_SVM))\n",
        "print('\\033[1m{:10s}\\033[0m'.format(\"Accuracy:\"),accuracy_score(y_test, y_pred_SVM))"
      ],
      "metadata": {
        "colab": {
          "base_uri": "https://localhost:8080/"
        },
        "id": "h3FTJHDIqIUq",
        "outputId": "f290fb66-0a3d-4fc5-e5e2-5784b86591f0"
      },
      "execution_count": null,
      "outputs": [
        {
          "output_type": "stream",
          "name": "stdout",
          "text": [
            "\u001b[1mTF-IDF_SVM_model\u001b[0m\n",
            "Report : \n",
            "               precision    recall  f1-score   support\n",
            "\n",
            "          AE       0.33      0.38      0.36      1850\n",
            "          BH       0.28      0.32      0.30      1849\n",
            "          DZ       0.54      0.55      0.54      1849\n",
            "          EG       0.59      0.68      0.63      1849\n",
            "          IQ       0.54      0.59      0.56      1849\n",
            "          JO       0.37      0.35      0.36      1850\n",
            "          KW       0.37      0.37      0.37      1849\n",
            "          LB       0.57      0.56      0.57      1849\n",
            "          LY       0.58      0.52      0.55      1849\n",
            "          MA       0.73      0.62      0.67      1849\n",
            "          OM       0.31      0.37      0.34      1849\n",
            "          PL       0.38      0.35      0.37      1849\n",
            "          QA       0.41      0.38      0.39      1850\n",
            "          SA       0.31      0.38      0.34      1849\n",
            "          SD       0.69      0.60      0.64      1849\n",
            "          SY       0.45      0.38      0.41      1850\n",
            "          TN       0.65      0.55      0.59      1849\n",
            "          YE       0.33      0.34      0.34      1849\n",
            "\n",
            "    accuracy                           0.46     33286\n",
            "   macro avg       0.47      0.46      0.46     33286\n",
            "weighted avg       0.47      0.46      0.46     33286\n",
            "\n",
            "\u001b[1mAccuracy: \u001b[0m 0.4592020669350478\n"
          ]
        }
      ]
    },
    {
      "cell_type": "code",
      "source": [
        "# saving the data as a pickle file to reuse later\n",
        "with open(data_path+\"ml_pipe.pickle\", \"wb\") as f:\n",
        "    pickle.dump((pipe_SVM),f)"
      ],
      "metadata": {
        "id": "1DTkIEehvUNV"
      },
      "execution_count": null,
      "outputs": []
    },
    {
      "cell_type": "markdown",
      "source": [
        "# Deep learning model"
      ],
      "metadata": {
        "id": "AcBc2YRzWJ7Q"
      }
    },
    {
      "cell_type": "code",
      "source": [
        "nClasses=len(np.unique(y))\n",
        "nClasses"
      ],
      "metadata": {
        "colab": {
          "base_uri": "https://localhost:8080/"
        },
        "id": "7Uv5iW3FgbSe",
        "outputId": "23c84548-0bb6-4f83-9b8c-95e61cff005e"
      },
      "execution_count": 5,
      "outputs": [
        {
          "output_type": "execute_result",
          "data": {
            "text/plain": [
              "18"
            ]
          },
          "metadata": {},
          "execution_count": 5
        }
      ]
    },
    {
      "cell_type": "markdown",
      "source": [
        "**Label encoding the target variable.**"
      ],
      "metadata": {
        "id": "QstzCtqNkoL2"
      }
    },
    {
      "cell_type": "code",
      "source": [
        "le = preprocessing.LabelEncoder()\n",
        "\n",
        "y_train_le= le.fit_transform(y_train)\n",
        "y_test_le= le.transform(y_test)\n",
        "\n",
        "y_train_k = tf.keras.utils.to_categorical(y_train_le, num_classes=nClasses)\n",
        "y_test_k = tf.keras.utils.to_categorical(y_test_le, num_classes=nClasses)"
      ],
      "metadata": {
        "id": "nvGqhxdggNYU"
      },
      "execution_count": 6,
      "outputs": []
    },
    {
      "cell_type": "markdown",
      "source": [
        "**Tokinizing the text**"
      ],
      "metadata": {
        "id": "SJfyOwx2kvTu"
      }
    },
    {
      "cell_type": "code",
      "source": [
        "tokenizer = Tokenizer(num_words=10000)\n",
        "tokenizer.fit_on_texts(X_train)"
      ],
      "metadata": {
        "id": "i7IQ3iR1WNul"
      },
      "execution_count": 7,
      "outputs": []
    },
    {
      "cell_type": "code",
      "source": [
        "X_train = tokenizer.texts_to_sequences(X_train)\n",
        "X_test = tokenizer.texts_to_sequences(X_test)\n",
        "\n",
        "vocab_size = len(tokenizer.word_index) + 1 "
      ],
      "metadata": {
        "id": "QYHyYB1mWNpV"
      },
      "execution_count": 8,
      "outputs": []
    },
    {
      "cell_type": "markdown",
      "source": [
        "**Padding each sentence to have 100 words per sentence.**"
      ],
      "metadata": {
        "id": "RfPyzwdQk3tL"
      }
    },
    {
      "cell_type": "code",
      "source": [
        "maxlen = 100\n",
        "\n",
        "X_train = pad_sequences(X_train, padding='post', maxlen=maxlen)\n",
        "X_test = pad_sequences(X_test, padding='post', maxlen=maxlen)"
      ],
      "metadata": {
        "id": "DVVzQ25LWNix"
      },
      "execution_count": 9,
      "outputs": []
    },
    {
      "cell_type": "markdown",
      "source": [
        "**Initializing the model**"
      ],
      "metadata": {
        "id": "RlJnGdInkiaX"
      }
    },
    {
      "cell_type": "code",
      "source": [
        "embedding_dim = 300\n",
        "\n",
        "model = Sequential()\n",
        "model.add(layers.Embedding(input_dim=vocab_size, \n",
        "                           output_dim=embedding_dim, \n",
        "                           input_length=maxlen))\n",
        "model.add(layers.Dropout(0.2))\n",
        "\n",
        "# model.add(layers.LSTM(units=32, return_sequences=True, return_state=False))\n",
        "model.add(layers.LSTM(units=16, return_sequences=True, return_state=False))\n",
        "\n",
        "model.add(layers.Flatten())\n",
        "\n",
        "# model.add(layers.Dense(128, activation='relu'))\n",
        "\n",
        "model.add(layers.Dense(32, activation='relu'))\n",
        "model.add(layers.Dropout(0.2))\n",
        "model.add(layers.Dense(nClasses, activation='sigmoid'))\n",
        "\n",
        "opt = Adam(learning_rate = 0.001)\n",
        "model.compile(optimizer=opt,\n",
        "              loss=tf.keras.losses.categorical_crossentropy,\n",
        "              metrics=['accuracy'])\n",
        "\n"
      ],
      "metadata": {
        "id": "wEIsRebkWNbu"
      },
      "execution_count": 10,
      "outputs": []
    },
    {
      "cell_type": "code",
      "source": [
        "model.summary()"
      ],
      "metadata": {
        "colab": {
          "base_uri": "https://localhost:8080/"
        },
        "id": "yfqiaMlbqmwG",
        "outputId": "4dd3691c-be0c-4dd8-9da4-9a7b8a35793e"
      },
      "execution_count": 11,
      "outputs": [
        {
          "output_type": "stream",
          "name": "stdout",
          "text": [
            "Model: \"sequential\"\n",
            "_________________________________________________________________\n",
            " Layer (type)                Output Shape              Param #   \n",
            "=================================================================\n",
            " embedding (Embedding)       (None, 100, 300)          72305100  \n",
            "                                                                 \n",
            " dropout (Dropout)           (None, 100, 300)          0         \n",
            "                                                                 \n",
            " lstm (LSTM)                 (None, 100, 16)           20288     \n",
            "                                                                 \n",
            " flatten (Flatten)           (None, 1600)              0         \n",
            "                                                                 \n",
            " dense (Dense)               (None, 32)                51232     \n",
            "                                                                 \n",
            " dropout_1 (Dropout)         (None, 32)                0         \n",
            "                                                                 \n",
            " dense_1 (Dense)             (None, 18)                594       \n",
            "                                                                 \n",
            "=================================================================\n",
            "Total params: 72,377,214\n",
            "Trainable params: 72,377,214\n",
            "Non-trainable params: 0\n",
            "_________________________________________________________________\n"
          ]
        }
      ]
    },
    {
      "cell_type": "code",
      "source": [
        "tf.keras.utils.plot_model(\n",
        "    model, to_file=data_path+'model.png',\n",
        "    show_layer_names=True, rankdir='LR'\n",
        ")"
      ],
      "metadata": {
        "colab": {
          "base_uri": "https://localhost:8080/",
          "height": 90
        },
        "id": "od03lsSgXI_Q",
        "outputId": "6162337b-e57c-4585-e090-8f9e0ebd9dce"
      },
      "execution_count": 12,
      "outputs": [
        {
          "output_type": "execute_result",
          "data": {
            "text/plain": [
              "<IPython.core.display.Image object>"
            ],
            "image/png": "[encoded data removed]"
          },
          "metadata": {},
          "execution_count": 12
        }
      ]
    },
    {
      "cell_type": "markdown",
      "source": [
        "**Model Training**"
      ],
      "metadata": {
        "id": "2T6j47ljkedn"
      }
    },
    {
      "cell_type": "code",
      "source": [
        "\n",
        "batchSize = 32\n",
        "nEpochs = 10\n",
        "\n",
        "history = model.fit(X_train, y_train_k,\n",
        "                    epochs=nEpochs,\n",
        "                    validation_data=(X_test, y_test_k),\n",
        "                    batch_size=batchSize )"
      ],
      "metadata": {
        "colab": {
          "base_uri": "https://localhost:8080/"
        },
        "id": "8gnykq6GWNWi",
        "outputId": "ec8c43fa-69ca-4fff-8a31-be019c105a6c"
      },
      "execution_count": null,
      "outputs": [
        {
          "output_type": "stream",
          "name": "stdout",
          "text": [
            "Epoch 1/10\n",
            "4161/4161 [==============================] - 316s 75ms/step - loss: 2.2200 - accuracy: 0.2857 - val_loss: 1.9432 - val_accuracy: 0.3833\n",
            "Epoch 2/10\n",
            "4161/4161 [==============================] - 310s 74ms/step - loss: 1.8609 - accuracy: 0.4130 - val_loss: 1.8814 - val_accuracy: 0.4054\n",
            "Epoch 3/10\n",
            "4161/4161 [==============================] - 309s 74ms/step - loss: 1.7220 - accuracy: 0.4568 - val_loss: 1.8886 - val_accuracy: 0.4097\n",
            "Epoch 4/10\n",
            "4161/4161 [==============================] - 309s 74ms/step - loss: 1.6150 - accuracy: 0.4889 - val_loss: 1.9073 - val_accuracy: 0.4074\n",
            "Epoch 5/10\n",
            "4161/4161 [==============================] - 312s 75ms/step - loss: 1.5226 - accuracy: 0.5184 - val_loss: 1.9868 - val_accuracy: 0.4010\n",
            "Epoch 6/10\n",
            "4161/4161 [==============================] - 310s 75ms/step - loss: 1.4385 - accuracy: 0.5423 - val_loss: 2.0317 - val_accuracy: 0.4007\n",
            "Epoch 7/10\n",
            "4161/4161 [==============================] - 309s 74ms/step - loss: 1.3683 - accuracy: 0.5665 - val_loss: 2.1014 - val_accuracy: 0.3954\n",
            "Epoch 8/10\n",
            "4161/4161 [==============================] - 309s 74ms/step - loss: 1.3039 - accuracy: 0.5844 - val_loss: 2.2261 - val_accuracy: 0.3891\n",
            "Epoch 9/10\n",
            "4161/4161 [==============================] - 313s 75ms/step - loss: 1.2487 - accuracy: 0.6030 - val_loss: 2.3227 - val_accuracy: 0.3864\n",
            "Epoch 10/10\n",
            "4161/4161 [==============================] - 313s 75ms/step - loss: 1.2074 - accuracy: 0.6137 - val_loss: 2.3444 - val_accuracy: 0.3830\n"
          ]
        }
      ]
    },
    {
      "cell_type": "markdown",
      "source": [
        "**Model Evaluation**"
      ],
      "metadata": {
        "id": "RIZrbFlVlJQR"
      }
    },
    {
      "cell_type": "code",
      "source": [
        "loss, accuracy = model.evaluate(X_train, y_train_k, verbose=False)\n",
        "print(\"Training Accuracy: {:.4f}\".format(accuracy))\n",
        "loss, accuracy = model.evaluate(X_test, y_test_k, verbose=False)\n",
        "print(\"Testing Accuracy:  {:.4f}\".format(accuracy))\n"
      ],
      "metadata": {
        "colab": {
          "base_uri": "https://localhost:8080/"
        },
        "id": "c-1GgiXGRb3R",
        "outputId": "c6530845-8fa0-420e-efbb-cd453256187c"
      },
      "execution_count": null,
      "outputs": [
        {
          "output_type": "stream",
          "name": "stdout",
          "text": [
            "Training Accuracy: 0.7060\n",
            "Testing Accuracy:  0.3830\n"
          ]
        }
      ]
    },
    {
      "cell_type": "code",
      "source": [
        "acc = history.history['accuracy']\n",
        "val_acc = history.history['val_accuracy']\n",
        "loss = history.history['loss']\n",
        "val_loss = history.history['val_loss']\n",
        "x = range(1, len(acc) + 1)\n",
        "\n",
        "plt.figure(figsize=(12, 5))\n",
        "plt.subplot(1, 2, 1)\n",
        "plt.plot(x, acc, 'b', label='Training acc')\n",
        "plt.plot(x, val_acc, 'r', label='Validation acc')\n",
        "plt.title('Training and validation accuracy')\n",
        "plt.legend()\n",
        "plt.subplot(1, 2, 2)\n",
        "plt.plot(x, loss, 'b', label='Training loss')\n",
        "plt.plot(x, val_loss, 'r', label='Validation loss')\n",
        "plt.title('Training and validation loss')\n",
        "plt.legend()"
      ],
      "metadata": {
        "colab": {
          "base_uri": "https://localhost:8080/",
          "height": 353
        },
        "id": "Kgv_WIQ7UZqA",
        "outputId": "42a64c40-950b-4473-a942-0eb516686fdd"
      },
      "execution_count": null,
      "outputs": [
        {
          "output_type": "execute_result",
          "data": {
            "text/plain": [
              "<matplotlib.legend.Legend at 0x7f0b55c74090>"
            ]
          },
          "metadata": {},
          "execution_count": 54
        },
        {
          "output_type": "display_data",
          "data": {
            "text/plain": [
              "<Figure size 864x360 with 2 Axes>"
            ],
            "image/png": "[encoded data removed]"
          },
          "metadata": {
            "needs_background": "light"
          }
        }
      ]
    },
    {
      "cell_type": "code",
      "source": [
        "model.save_weights(data_path+'weights.h5')"
      ],
      "metadata": {
        "id": "pNvAuB1cuBCE"
      },
      "execution_count": null,
      "outputs": []
    },
    {
      "cell_type": "markdown",
      "source": [
        "**The deep learning model is overfitting the training data from the first two epochs. However, decreasing the tokenizer's number of words reduces the overfitting.**"
      ],
      "metadata": {
        "id": "6xCgcnkDj7nK"
      }
    },
    {
      "cell_type": "markdown",
      "source": [
        "# Comparison"
      ],
      "metadata": {
        "id": "-0-zAkgQjPzw"
      }
    },
    {
      "cell_type": "markdown",
      "source": [
        "**As shown above both models have low accuracy. However, the deep learning model is also overfitting making the SVM model our champion model. Accuracy is chosen as out metric because the data is balanced amoung all classes.**"
      ],
      "metadata": {
        "id": "k9sDbnmOj6o_"
      }
    }
  ]
}