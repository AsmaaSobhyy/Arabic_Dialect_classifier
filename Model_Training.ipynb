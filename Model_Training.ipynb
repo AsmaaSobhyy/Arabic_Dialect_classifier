{
  "nbformat": 4,
  "nbformat_minor": 0,
  "metadata": {
    "colab": {
      "name": "Model_Training.ipynb",
      "provenance": [],
      "collapsed_sections": []
    },
    "kernelspec": {
      "name": "python3",
      "display_name": "Python 3"
    },
    "language_info": {
      "name": "python"
    },
    "accelerator": "GPU"
  },
  "cells": [
    {
      "cell_type": "code",
      "source": [
        "from sklearn.pipeline import Pipeline\n",
        "from sklearn.feature_extraction.text import TfidfVectorizer\n",
        "from sklearn.model_selection import train_test_split\n",
        "from sklearn import svm\n",
        "from sklearn.metrics import classification_report, accuracy_score\n",
        "\n",
        "from sklearn import preprocessing\n",
        "\n",
        "import tensorflow as tf \n",
        "from keras.preprocessing.text import Tokenizer\n",
        "from keras.preprocessing.sequence import pad_sequences\n",
        "from keras.models import Sequential\n",
        "from keras import layers\n",
        "from tensorflow.keras.optimizers import Adam\n",
        "\n",
        "import pickle\n",
        "import numpy as np\n",
        "import matplotlib.pyplot as plt"
      ],
      "metadata": {
        "id": "LZ-jXVm4pz-v"
      },
      "execution_count": 25,
      "outputs": []
    },
    {
      "cell_type": "markdown",
      "source": [
        "## Preparing the data"
      ],
      "metadata": {
        "id": "dH0tutquqXWw"
      }
    },
    {
      "cell_type": "code",
      "source": [
        "data_path =\"/content/drive/MyDrive/Aimtech/\"\n",
        "# data_path =\"./\""
      ],
      "metadata": {
        "id": "2EtUqds5qW8W"
      },
      "execution_count": 4,
      "outputs": []
    },
    {
      "cell_type": "code",
      "source": [
        "with open(data_path+\"clean_data.pickle\", \"rb\") as f:\n",
        "    (X,y) = pickle.load(f)"
      ],
      "metadata": {
        "id": "a887mr7pqe6B"
      },
      "execution_count": 5,
      "outputs": []
    },
    {
      "cell_type": "code",
      "source": [
        "# Splitting the data into train and validation sets with ratio 80 : 20 \n",
        "X_train, X_test, y_train, y_test = train_test_split(X.flatten(),y, test_size=0.2,stratify=y,random_state=0)\n",
        "print(X_train.shape)\n",
        "print(X_test.shape)"
      ],
      "metadata": {
        "colab": {
          "base_uri": "https://localhost:8080/"
        },
        "id": "p_mXfYESqpOr",
        "outputId": "6965df8d-53f6-48ae-8aa2-4aa07d3e3460"
      },
      "execution_count": 40,
      "outputs": [
        {
          "output_type": "stream",
          "name": "stdout",
          "text": [
            "(133142,)\n",
            "(33286,)\n"
          ]
        }
      ]
    },
    {
      "cell_type": "code",
      "source": [
        "# X.flatten()"
      ],
      "metadata": {
        "id": "UCKGrHhpw8WX"
      },
      "execution_count": null,
      "outputs": []
    },
    {
      "cell_type": "code",
      "source": [
        "# vectorizer = TfidfVectorizer(lowercase=False)\n",
        "# X_test = vectorizer.fit_transform(X_train.flatten() )"
      ],
      "metadata": {
        "id": "ZGwaH1uZuobZ"
      },
      "execution_count": null,
      "outputs": []
    },
    {
      "cell_type": "code",
      "source": [
        "# TF-IDF transformation then SVM classifier\n",
        "\n",
        "pipe_SVM= Pipeline([('tfidf', TfidfVectorizer(lowercase=False)),\n",
        "               ('clf',svm.SVC(kernel='linear', C=1)),\n",
        "              ])\n",
        "pipe_SVM.fit(X_train, y_train)\n",
        "y_pred_SVM= pipe_SVM.predict(X_test)\n",
        "\n",
        "#Evaluation\n",
        "print('\\033[1m{:10s}\\033[0m'.format('TF-IDF_SVM_model'))\n",
        "print(\"Report : \\n\",classification_report(y_test, y_pred_SVM))\n",
        "print('\\033[1m{:10s}\\033[0m'.format(\"Accuracy:\"),accuracy_score(y_test, y_pred_SVM))"
      ],
      "metadata": {
        "colab": {
          "base_uri": "https://localhost:8080/"
        },
        "id": "h3FTJHDIqIUq",
        "outputId": "f290fb66-0a3d-4fc5-e5e2-5784b86591f0"
      },
      "execution_count": null,
      "outputs": [
        {
          "output_type": "stream",
          "name": "stdout",
          "text": [
            "\u001b[1mTF-IDF_SVM_model\u001b[0m\n",
            "Report : \n",
            "               precision    recall  f1-score   support\n",
            "\n",
            "          AE       0.33      0.38      0.36      1850\n",
            "          BH       0.28      0.32      0.30      1849\n",
            "          DZ       0.54      0.55      0.54      1849\n",
            "          EG       0.59      0.68      0.63      1849\n",
            "          IQ       0.54      0.59      0.56      1849\n",
            "          JO       0.37      0.35      0.36      1850\n",
            "          KW       0.37      0.37      0.37      1849\n",
            "          LB       0.57      0.56      0.57      1849\n",
            "          LY       0.58      0.52      0.55      1849\n",
            "          MA       0.73      0.62      0.67      1849\n",
            "          OM       0.31      0.37      0.34      1849\n",
            "          PL       0.38      0.35      0.37      1849\n",
            "          QA       0.41      0.38      0.39      1850\n",
            "          SA       0.31      0.38      0.34      1849\n",
            "          SD       0.69      0.60      0.64      1849\n",
            "          SY       0.45      0.38      0.41      1850\n",
            "          TN       0.65      0.55      0.59      1849\n",
            "          YE       0.33      0.34      0.34      1849\n",
            "\n",
            "    accuracy                           0.46     33286\n",
            "   macro avg       0.47      0.46      0.46     33286\n",
            "weighted avg       0.47      0.46      0.46     33286\n",
            "\n",
            "\u001b[1mAccuracy: \u001b[0m 0.4592020669350478\n"
          ]
        }
      ]
    },
    {
      "cell_type": "code",
      "source": [
        "# saving the data as a pickle file to reuse later\n",
        "with open(data_path+\"ml_pipe.pickle\", \"wb\") as f:\n",
        "    pickle.dump((pipe_SVM),f)"
      ],
      "metadata": {
        "id": "1DTkIEehvUNV"
      },
      "execution_count": null,
      "outputs": []
    },
    {
      "cell_type": "code",
      "source": [
        "# import joblib\n",
        "from joblib import dump\n",
        "\n",
        "# dump the pipeline model\n",
        "dump(pipe_SVM, filename=\"ml_pipe.joblib\")"
      ],
      "metadata": {
        "colab": {
          "base_uri": "https://localhost:8080/"
        },
        "id": "HP2i7_8G0CTI",
        "outputId": "ba2cdc4e-b7e1-46c5-e534-faa8a65839df"
      },
      "execution_count": null,
      "outputs": [
        {
          "output_type": "execute_result",
          "data": {
            "text/plain": [
              "['ml_pipe.joblib']"
            ]
          },
          "metadata": {},
          "execution_count": 7
        }
      ]
    },
    {
      "cell_type": "markdown",
      "source": [
        "# Deep model"
      ],
      "metadata": {
        "id": "AcBc2YRzWJ7Q"
      }
    },
    {
      "cell_type": "code",
      "source": [
        "nClasses=len(np.unique(y))\n",
        "nClasses"
      ],
      "metadata": {
        "colab": {
          "base_uri": "https://localhost:8080/"
        },
        "id": "7Uv5iW3FgbSe",
        "outputId": "80d3286d-f062-4b84-9e39-b59553fa7ccc"
      },
      "execution_count": 7,
      "outputs": [
        {
          "output_type": "execute_result",
          "data": {
            "text/plain": [
              "18"
            ]
          },
          "metadata": {},
          "execution_count": 7
        }
      ]
    },
    {
      "cell_type": "code",
      "source": [
        "le = preprocessing.LabelEncoder()\n",
        "\n",
        "y_train_le= le.fit_transform(y_train)\n",
        "y_test_le= le.transform(y_test)\n",
        "\n",
        "y_train_k = tf.keras.utils.to_categorical(y_train_le, num_classes=nClasses)\n",
        "y_test_k = tf.keras.utils.to_categorical(y_test_le, num_classes=nClasses)"
      ],
      "metadata": {
        "id": "nvGqhxdggNYU"
      },
      "execution_count": 41,
      "outputs": []
    },
    {
      "cell_type": "code",
      "source": [
        "tokenizer = Tokenizer(num_words=10000)\n",
        "tokenizer.fit_on_texts(X_train)"
      ],
      "metadata": {
        "id": "i7IQ3iR1WNul"
      },
      "execution_count": 42,
      "outputs": []
    },
    {
      "cell_type": "code",
      "source": [
        "X_train = tokenizer.texts_to_sequences(X_train)\n",
        "X_test = tokenizer.texts_to_sequences(X_test)\n",
        "\n",
        "vocab_size = len(tokenizer.word_index) + 1 "
      ],
      "metadata": {
        "id": "QYHyYB1mWNpV"
      },
      "execution_count": 43,
      "outputs": []
    },
    {
      "cell_type": "code",
      "source": [
        "maxlen = 100\n",
        "\n",
        "X_train = pad_sequences(X_train, padding='post', maxlen=maxlen)\n",
        "X_test = pad_sequences(X_test, padding='post', maxlen=maxlen)"
      ],
      "metadata": {
        "id": "DVVzQ25LWNix"
      },
      "execution_count": 44,
      "outputs": []
    },
    {
      "cell_type": "code",
      "source": [
        "embedding_dim = 300\n",
        "\n",
        "model = Sequential()\n",
        "model.add(layers.Embedding(input_dim=vocab_size, \n",
        "                           output_dim=embedding_dim, \n",
        "                           input_length=maxlen))\n",
        "model.add(layers.Dropout(0.2))\n",
        "\n",
        "# model.add(layers.LSTM(units=32, return_sequences=True, return_state=False))\n",
        "model.add(layers.LSTM(units=16, return_sequences=True, return_state=False))\n",
        "\n",
        "model.add(layers.Flatten())\n",
        "\n",
        "# model.add(layers.Dense(128, activation='relu'))\n",
        "\n",
        "model.add(layers.Dense(32, activation='relu'))\n",
        "model.add(layers.Dropout(0.2))\n",
        "model.add(layers.Dense(nClasses, activation='sigmoid'))\n",
        "\n",
        "opt = Adam(learning_rate = 0.001)\n",
        "model.compile(optimizer=opt,\n",
        "              loss=tf.keras.losses.categorical_crossentropy,\n",
        "              metrics=['accuracy'])\n",
        "\n"
      ],
      "metadata": {
        "id": "wEIsRebkWNbu"
      },
      "execution_count": 45,
      "outputs": []
    },
    {
      "cell_type": "code",
      "source": [
        "batchSize = 32\n",
        "nEpochs = 32\n",
        "\n",
        "history = model.fit(X_train, y_train_k,\n",
        "                    epochs=nEpochs,\n",
        "                    validation_data=(X_test, y_test_k),\n",
        "                    batch_size=batchSize )"
      ],
      "metadata": {
        "colab": {
          "base_uri": "https://localhost:8080/"
        },
        "id": "8gnykq6GWNWi",
        "outputId": "c39c74fd-c6eb-461f-d3f3-5f1472cbc721"
      },
      "execution_count": null,
      "outputs": [
        {
          "output_type": "stream",
          "name": "stdout",
          "text": [
            "Epoch 1/32\n",
            "4161/4161 [==============================] - 314s 75ms/step - loss: 2.2204 - accuracy: 0.2833 - val_loss: 1.9596 - val_accuracy: 0.3696\n",
            "Epoch 2/32\n",
            "3264/4161 [======================>.......] - ETA: 1:06 - loss: 1.8823 - accuracy: 0.4017"
          ]
        }
      ]
    },
    {
      "cell_type": "code",
      "source": [
        "loss, accuracy = model.evaluate(X_train, y_train_k, verbose=False)\n",
        "print(\"Training Accuracy: {:.4f}\".format(accuracy))\n",
        "loss, accuracy = model.evaluate(X_test, y_test_k, verbose=False)\n",
        "print(\"Testing Accuracy:  {:.4f}\".format(accuracy))\n"
      ],
      "metadata": {
        "colab": {
          "base_uri": "https://localhost:8080/"
        },
        "id": "c-1GgiXGRb3R",
        "outputId": "9667dc15-2f9b-4a84-f977-77d1440312e1"
      },
      "execution_count": null,
      "outputs": [
        {
          "output_type": "stream",
          "name": "stdout",
          "text": [
            "Training Accuracy: 0.6462\n",
            "Testing Accuracy:  0.3592\n"
          ]
        }
      ]
    },
    {
      "cell_type": "code",
      "source": [
        "acc = history.history['acc']\n",
        "val_acc = history.history['val_acc']\n",
        "loss = history.history['loss']\n",
        "val_loss = history.history['val_loss']\n",
        "x = range(1, len(acc) + 1)\n",
        "\n",
        "plt.figure(figsize=(12, 5))\n",
        "plt.subplot(1, 2, 1)\n",
        "plt.plot(x, acc, 'b', label='Training acc')\n",
        "plt.plot(x, val_acc, 'r', label='Validation acc')\n",
        "plt.title('Training and validation accuracy')\n",
        "plt.legend()\n",
        "plt.subplot(1, 2, 2)\n",
        "plt.plot(x, loss, 'b', label='Training loss')\n",
        "plt.plot(x, val_loss, 'r', label='Validation loss')\n",
        "plt.title('Training and validation loss')\n",
        "plt.legend()"
      ],
      "metadata": {
        "id": "Kgv_WIQ7UZqA"
      },
      "execution_count": null,
      "outputs": []
    },
    {
      "cell_type": "code",
      "source": [
        "model.save_weights(os.path.join(data_path, 'weights.h5'))"
      ],
      "metadata": {
        "id": "pNvAuB1cuBCE"
      },
      "execution_count": null,
      "outputs": []
    },
    {
      "cell_type": "code",
      "source": [
        ""
      ],
      "metadata": {
        "id": "Yz_uXeXeykjk"
      },
      "execution_count": null,
      "outputs": []
    }
  ]
}